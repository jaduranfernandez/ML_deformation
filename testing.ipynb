{
 "cells": [
  {
   "cell_type": "code",
   "execution_count": 19,
   "metadata": {},
   "outputs": [
    {
     "name": "stdout",
     "output_type": "stream",
     "text": [
      "basic_model\n"
     ]
    }
   ],
   "source": [
    "import json\n",
    "from dotmap import DotMap\n",
    "\n",
    "filename = \"configs/basic.json\"\n",
    "# Lee el contenido del archivo JSON\n",
    "with open(filename) as file:\n",
    "    data = json.load(file)\n",
    "\n",
    "# El contenido del archivo JSON se almacena en la variable 'data'\n",
    "# Puedes acceder a los datos como un diccionario\n",
    "\n",
    "print(data[\"exp\"][\"name\"])\n",
    "\n",
    "data_dict = DotMap(data)\n"
   ]
  },
  {
   "cell_type": "code",
   "execution_count": 25,
   "metadata": {},
   "outputs": [
    {
     "data": {
      "text/plain": [
       "'skere'"
      ]
     },
     "execution_count": 25,
     "metadata": {},
     "output_type": "execute_result"
    }
   ],
   "source": [
    "data_dict.folder = \"skere\""
   ]
  },
  {
   "cell_type": "code",
   "execution_count": 12,
   "metadata": {},
   "outputs": [
    {
     "name": "stdout",
     "output_type": "stream",
     "text": [
      "skere\n"
     ]
    }
   ],
   "source": [
    "def fun():\n",
    "    print(\"skere\")\n",
    "\n",
    "\n",
    "value = \"fun\"\n",
    "\n",
    "globals()[value]()"
   ]
  },
  {
   "cell_type": "code",
   "execution_count": 2,
   "metadata": {},
   "outputs": [
    {
     "data": {
      "text/plain": [
       "0"
      ]
     },
     "execution_count": 2,
     "metadata": {},
     "output_type": "execute_result"
    }
   ],
   "source": [
    "import os\n",
    "import time\n",
    "from utils import create_dirs\n",
    "\n",
    "\n",
    "name = \"model\"\n",
    "folder = os.path.join(\"results\", time.strftime(\"%Y-%m-%d/\",time.localtime()), name, \"logs/\")\n",
    "create_dirs([folder])"
   ]
  },
  {
   "cell_type": "code",
   "execution_count": null,
   "metadata": {},
   "outputs": [],
   "source": [
    "def init_obj(self, name, module, *args, **kwargs):\n",
    "    \"\"\"\n",
    "    Finds a function handle with the name given as 'type' in config, and returns the\n",
    "    instance initialized with corresponding arguments given.\n",
    "\n",
    "    `object = config.init_obj('name', module, a, b=1)`\n",
    "    is equivalent to\n",
    "    `object = module.name(a, b=1)`\n",
    "    \"\"\"\n",
    "    module_name = self[name]['type']\n",
    "    module_args = dict(self[name]['args'])\n",
    "    assert all([k not in module_args for k in kwargs]), 'Overwriting kwargs given in config file is not allowed'\n",
    "    module_args.update(kwargs)\n",
    "    return getattr(module, module_name)(*args, **module_args)\n",
    "\n"
   ]
  },
  {
   "cell_type": "code",
   "execution_count": 9,
   "metadata": {},
   "outputs": [
    {
     "name": "stdout",
     "output_type": "stream",
     "text": [
      "Hello  Aggeo\n",
      "None\n"
     ]
    }
   ],
   "source": [
    "import utils.custom as module\n",
    "#from utils.custom import *\n",
    "\n",
    "\n",
    "function_name = \"custom_fun\"\n",
    "arguments = [\"Aggeo\"]\n",
    "\n",
    "\n",
    "method = getattr(module, function_name)\n",
    "\n",
    "\n",
    "result = method(*arguments)\n",
    "print(result)  # Resultado: 5\n"
   ]
  },
  {
   "cell_type": "code",
   "execution_count": 1,
   "metadata": {},
   "outputs": [
    {
     "name": "stdout",
     "output_type": "stream",
     "text": [
      "Skere\n"
     ]
    }
   ],
   "source": [
    "import utils.custom as module\n",
    "#from utils.custom import *\n",
    "\n",
    "class_name = \"Test\"\n",
    "\n",
    "my_class = getattr(module, class_name)\n",
    "\n",
    "# Crea una instancia de la clase\n",
    "instance = my_class()\n",
    "\n",
    "instance.show()"
   ]
  },
  {
   "cell_type": "code",
   "execution_count": 11,
   "metadata": {},
   "outputs": [
    {
     "name": "stdout",
     "output_type": "stream",
     "text": [
      "2\n",
      "10\n"
     ]
    }
   ],
   "source": [
    "def fun(name, module, *args, **kwargs):\n",
    "    print(len(args))\n",
    "    method = getattr(module, name)\n",
    "\n",
    "    # Crea una instancia de la clase\n",
    "    if(len(args) > 0):\n",
    "        return method(*args)\n",
    "    else:\n",
    "        return method()\n",
    "    \n",
    "\n",
    "#my_class = fun(\"Test\", module)\n",
    "#my_class.show()\n",
    "\n",
    "my_method = fun(\"add_fun\", module,6,4)\n",
    "print(my_method)"
   ]
  }
 ],
 "metadata": {
  "kernelspec": {
   "display_name": "Python 3",
   "language": "python",
   "name": "python3"
  },
  "language_info": {
   "codemirror_mode": {
    "name": "ipython",
    "version": 3
   },
   "file_extension": ".py",
   "mimetype": "text/x-python",
   "name": "python",
   "nbconvert_exporter": "python",
   "pygments_lexer": "ipython3",
   "version": "3.11.0"
  },
  "orig_nbformat": 4
 },
 "nbformat": 4,
 "nbformat_minor": 2
}
