{
 "cells": [
  {
   "cell_type": "code",
   "execution_count": 19,
   "metadata": {},
   "outputs": [
    {
     "name": "stdout",
     "output_type": "stream",
     "text": [
      "basic_model\n"
     ]
    }
   ],
   "source": [
    "import json\n",
    "from dotmap import DotMap\n",
    "\n",
    "filename = \"configs/basic.json\"\n",
    "# Lee el contenido del archivo JSON\n",
    "with open(filename) as file:\n",
    "    data = json.load(file)\n",
    "\n",
    "# El contenido del archivo JSON se almacena en la variable 'data'\n",
    "# Puedes acceder a los datos como un diccionario\n",
    "\n",
    "print(data[\"exp\"][\"name\"])\n",
    "\n",
    "data_dict = DotMap(data)\n"
   ]
  },
  {
   "cell_type": "code",
   "execution_count": 25,
   "metadata": {},
   "outputs": [
    {
     "data": {
      "text/plain": [
       "'skere'"
      ]
     },
     "execution_count": 25,
     "metadata": {},
     "output_type": "execute_result"
    }
   ],
   "source": [
    "data_dict.folder = \"skere\""
   ]
  },
  {
   "cell_type": "code",
   "execution_count": 12,
   "metadata": {},
   "outputs": [
    {
     "name": "stdout",
     "output_type": "stream",
     "text": [
      "skere\n"
     ]
    }
   ],
   "source": [
    "def fun():\n",
    "    print(\"skere\")\n",
    "\n",
    "\n",
    "value = \"fun\"\n",
    "\n",
    "globals()[value]()"
   ]
  }
 ],
 "metadata": {
  "kernelspec": {
   "display_name": "Python 3",
   "language": "python",
   "name": "python3"
  },
  "language_info": {
   "codemirror_mode": {
    "name": "ipython",
    "version": 3
   },
   "file_extension": ".py",
   "mimetype": "text/x-python",
   "name": "python",
   "nbconvert_exporter": "python",
   "pygments_lexer": "ipython3",
   "version": "3.11.0"
  },
  "orig_nbformat": 4
 },
 "nbformat": 4,
 "nbformat_minor": 2
}
