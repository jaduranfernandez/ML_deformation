{
 "cells": [
  {
   "cell_type": "code",
   "execution_count": 19,
   "metadata": {},
   "outputs": [
    {
     "name": "stdout",
     "output_type": "stream",
     "text": [
      "basic_model\n"
     ]
    }
   ],
   "source": [
    "import json\n",
    "from dotmap import DotMap\n",
    "\n",
    "filename = \"configs/basic.json\"\n",
    "# Lee el contenido del archivo JSON\n",
    "with open(filename) as file:\n",
    "    data = json.load(file)\n",
    "\n",
    "# El contenido del archivo JSON se almacena en la variable 'data'\n",
    "# Puedes acceder a los datos como un diccionario\n",
    "\n",
    "print(data[\"exp\"][\"name\"])\n",
    "\n",
    "data_dict = DotMap(data)\n"
   ]
  },
  {
   "cell_type": "code",
   "execution_count": 25,
   "metadata": {},
   "outputs": [
    {
     "data": {
      "text/plain": [
       "'skere'"
      ]
     },
     "execution_count": 25,
     "metadata": {},
     "output_type": "execute_result"
    }
   ],
   "source": [
    "data_dict.folder = \"skere\""
   ]
  },
  {
   "cell_type": "code",
   "execution_count": 12,
   "metadata": {},
   "outputs": [
    {
     "name": "stdout",
     "output_type": "stream",
     "text": [
      "skere\n"
     ]
    }
   ],
   "source": [
    "def fun():\n",
    "    print(\"skere\")\n",
    "\n",
    "\n",
    "value = \"fun\"\n",
    "\n",
    "globals()[value]()"
   ]
  },
  {
   "cell_type": "code",
   "execution_count": 2,
   "metadata": {},
   "outputs": [
    {
     "data": {
      "text/plain": [
       "0"
      ]
     },
     "execution_count": 2,
     "metadata": {},
     "output_type": "execute_result"
    }
   ],
   "source": [
    "import os\n",
    "import time\n",
    "from utils import create_dirs\n",
    "\n",
    "\n",
    "name = \"model\"\n",
    "folder = os.path.join(\"results\", time.strftime(\"%Y-%m-%d/\",time.localtime()), name, \"logs/\")\n",
    "create_dirs([folder])"
   ]
  },
  {
   "cell_type": "code",
   "execution_count": null,
   "metadata": {},
   "outputs": [],
   "source": [
    "def init_obj(self, name, module, *args, **kwargs):\n",
    "    \"\"\"\n",
    "    Finds a function handle with the name given as 'type' in config, and returns the\n",
    "    instance initialized with corresponding arguments given.\n",
    "\n",
    "    `object = config.init_obj('name', module, a, b=1)`\n",
    "    is equivalent to\n",
    "    `object = module.name(a, b=1)`\n",
    "    \"\"\"\n",
    "    module_name = self[name]['type']\n",
    "    module_args = dict(self[name]['args'])\n",
    "    assert all([k not in module_args for k in kwargs]), 'Overwriting kwargs given in config file is not allowed'\n",
    "    module_args.update(kwargs)\n",
    "    return getattr(module, module_name)(*args, **module_args)\n",
    "\n"
   ]
  },
  {
   "cell_type": "code",
   "execution_count": 9,
   "metadata": {},
   "outputs": [
    {
     "name": "stdout",
     "output_type": "stream",
     "text": [
      "Hello  Aggeo\n",
      "None\n"
     ]
    }
   ],
   "source": [
    "import utils.custom as module\n",
    "#from utils.custom import *\n",
    "\n",
    "\n",
    "function_name = \"custom_fun\"\n",
    "arguments = [\"Aggeo\"]\n",
    "\n",
    "\n",
    "method = getattr(module, function_name)\n",
    "\n",
    "\n",
    "result = method(*arguments)\n",
    "print(result)  # Resultado: 5\n"
   ]
  },
  {
   "cell_type": "code",
   "execution_count": 2,
   "metadata": {},
   "outputs": [
    {
     "name": "stdout",
     "output_type": "stream",
     "text": [
      "Skere\n"
     ]
    }
   ],
   "source": [
    "import utils.custom as module\n",
    "#from utils.custom import *\n",
    "\n",
    "class_name = \"Test\"\n",
    "\n",
    "my_class = getattr(module, class_name)\n",
    "\n",
    "# Crea una instancia de la clase\n",
    "instance = my_class()\n",
    "\n",
    "instance.show()"
   ]
  },
  {
   "cell_type": "code",
   "execution_count": 6,
   "metadata": {},
   "outputs": [
    {
     "ename": "NameError",
     "evalue": "Object or function does not exists",
     "output_type": "error",
     "traceback": [
      "\u001b[1;31m---------------------------------------------------------------------------\u001b[0m",
      "\u001b[1;31mAttributeError\u001b[0m                            Traceback (most recent call last)",
      "Cell \u001b[1;32mIn[6], line 3\u001b[0m, in \u001b[0;36mfun\u001b[1;34m(name, module, *args, **kwargs)\u001b[0m\n\u001b[0;32m      2\u001b[0m \u001b[39mtry\u001b[39;00m:\n\u001b[1;32m----> 3\u001b[0m     method \u001b[39m=\u001b[39m \u001b[39mgetattr\u001b[39;49m(module, name)\n\u001b[0;32m      4\u001b[0m     \u001b[39mreturn\u001b[39;00m method(\u001b[39m*\u001b[39margs)\n",
      "\u001b[1;31mAttributeError\u001b[0m: module 'utils.custom' has no attribute 'add_funs'",
      "\nDuring handling of the above exception, another exception occurred:\n",
      "\u001b[1;31mNameError\u001b[0m                                 Traceback (most recent call last)",
      "Cell \u001b[1;32mIn[6], line 12\u001b[0m\n\u001b[0;32m      6\u001b[0m         \u001b[39mraise\u001b[39;00m \u001b[39mNameError\u001b[39;00m(\u001b[39m\"\u001b[39m\u001b[39mObject or function does not exists\u001b[39m\u001b[39m\"\u001b[39m)\n\u001b[0;32m      9\u001b[0m \u001b[39m#my_class = fun(\"Test\", module)\u001b[39;00m\n\u001b[0;32m     10\u001b[0m \u001b[39m#my_class.show()\u001b[39;00m\n\u001b[1;32m---> 12\u001b[0m my_method \u001b[39m=\u001b[39m fun(\u001b[39m\"\u001b[39;49m\u001b[39madd_funs\u001b[39;49m\u001b[39m\"\u001b[39;49m, module, \u001b[39m2\u001b[39;49m, \u001b[39m4\u001b[39;49m)\n\u001b[0;32m     13\u001b[0m \u001b[39mprint\u001b[39m(my_method)\n",
      "Cell \u001b[1;32mIn[6], line 6\u001b[0m, in \u001b[0;36mfun\u001b[1;34m(name, module, *args, **kwargs)\u001b[0m\n\u001b[0;32m      4\u001b[0m     \u001b[39mreturn\u001b[39;00m method(\u001b[39m*\u001b[39margs)\n\u001b[0;32m      5\u001b[0m \u001b[39mexcept\u001b[39;00m:\n\u001b[1;32m----> 6\u001b[0m     \u001b[39mraise\u001b[39;00m \u001b[39mNameError\u001b[39;00m(\u001b[39m\"\u001b[39m\u001b[39mObject or function does not exists\u001b[39m\u001b[39m\"\u001b[39m)\n",
      "\u001b[1;31mNameError\u001b[0m: Object or function does not exists"
     ]
    }
   ],
   "source": [
    "def fun(name, module, *args, **kwargs):\n",
    "    try:\n",
    "        method = getattr(module, name)\n",
    "        return method(*args)\n",
    "    except:\n",
    "        raise NameError(\"Object or function does not exists\")\n",
    "        \n",
    "\n",
    "#my_class = fun(\"Test\", module)\n",
    "#my_class.show()\n",
    "\n",
    "my_method = fun(\"add_funs\", module, 2, 4)\n",
    "print(my_method)"
   ]
  },
  {
   "cell_type": "code",
   "execution_count": 1,
   "metadata": {},
   "outputs": [
    {
     "name": "stdout",
     "output_type": "stream",
     "text": [
      "El directorio existe.\n"
     ]
    }
   ],
   "source": [
    "from pathlib import Path\n",
    "\n",
    "directorio = Path(\"experiments\\\\2023-07-18\\\\basic_model\\\\logs\")\n",
    "\n",
    "if directorio.exists() and directorio.is_dir():\n",
    "    print(\"El directorio existe.\")\n",
    "else:\n",
    "    print(\"El directorio no existe.\")"
   ]
  },
  {
   "cell_type": "code",
   "execution_count": 2,
   "metadata": {},
   "outputs": [
    {
     "name": "stdout",
     "output_type": "stream",
     "text": [
      "True\n"
     ]
    }
   ],
   "source": [
    "import os\n",
    "\n",
    "directorio = \"experiments/2023-07-18/basic_model/logs\"\n",
    "\n",
    "print(os.path.exists(directorio))"
   ]
  }
 ],
 "metadata": {
  "kernelspec": {
   "display_name": "Python 3",
   "language": "python",
   "name": "python3"
  },
  "language_info": {
   "codemirror_mode": {
    "name": "ipython",
    "version": 3
   },
   "file_extension": ".py",
   "mimetype": "text/x-python",
   "name": "python",
   "nbconvert_exporter": "python",
   "pygments_lexer": "ipython3",
   "version": "3.11.0"
  },
  "orig_nbformat": 4
 },
 "nbformat": 4,
 "nbformat_minor": 2
}
